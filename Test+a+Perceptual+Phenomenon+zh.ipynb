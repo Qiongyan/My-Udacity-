{
 "cells": [
  {
   "cell_type": "markdown",
   "metadata": {},
   "source": [
    "### 统计学：检验心理学现象\n",
    "\n",
    "在下方单元格中回答问题并执行相关代码，你可以 [参考项目指导](https://github.com/udacity/new-dand-advanced-china/blob/master/%E6%A3%80%E9%AA%8C%E5%BF%83%E7%90%86%E5%AD%A6%E7%8E%B0%E8%B1%A1/%E7%BB%9F%E8%AE%A1%E5%AD%A6%EF%BC%9A%E6%A3%80%E9%AA%8C%E5%BF%83%E7%90%86%E5%AD%A6%E7%8E%B0%E8%B1%A1.md) 并在正式提交前查看 [项目要求](https://review.udacity.com/#!/rubrics/305/view)。提交时请将 Jupyter notebook 导出成 HTML 或者 PDF 进行提交（File -> Download As）。\n",
    "\n",
    "背景信息\n",
    "\n",
    "在一个Stroop （斯特鲁普）任务中，参与者得到了一列文字，每个文字都用一种油墨颜色展示。参与者的任务是将文字的打印颜色大声说出来。这项任务有两个条件：一致文字条件，和不一致文字条件。在一致文字条件中，显示的文字是与它们的打印颜色匹配的颜色词，如“红色”、“蓝色”。在不一致文字条件中，显示的文字是与它们的打印颜色不匹配的颜色词，如“紫色”、“橙色”。在每个情况中，我们将计量说出同等大小的列表中的墨色名称的时间。每位参与者必须全部完成并记录每种条件下使用的时间。\n",
    "\n",
    "调查问题\n",
    "\n",
    "作为一般说明，请确保记录你在创建项目时使用或参考的任何资源。作为项目提交的一部分，你将需要报告信息来源。\n",
    "\n",
    "(1) 我们的自变量是什么？因变量是什么？"
   ]
  },
  {
   "cell_type": "markdown",
   "metadata": {},
   "source": [
    "自变量：一致文件条件与不一致文字条件；因变量：说出两种文字条件的时间。"
   ]
  },
  {
   "cell_type": "markdown",
   "metadata": {},
   "source": [
    "(2) 此任务的适当假设集是什么？你需要以文字和数学符号方式对假设集中的零假设和对立假设加以说明，并对数学符号进行定义。你想执行什么类型的统计检验？为你的选择提供正当理由（比如，为何该实验满足你所选统计检验的前置条件）。"
   ]
  },
  {
   "cell_type": "markdown",
   "metadata": {},
   "source": [
    "原假设：参与者说出不一致文字条件下的墨色的时间小于等于一致文字条件下的时间:\n",
    "$$\\mu_x-\\mu_y\\le0 $$\n",
    "备选假设：参与者说出不一致文字条件下的墨色的时间大于一致文字条件下的时间:\n",
    "$$\\mu_x-\\mu_y>0 $$\n",
    "$\\mu_x$:不一致文字条件下，参与者说出墨色名称所需时间的平均值；\n",
    "$\\mu_y$:一致文字条件下，参与者说出墨色名称所需时间的平均值."
   ]
  },
  {
   "cell_type": "markdown",
   "metadata": {},
   "source": [
    "现在轮到你自行尝试 Stroop 任务了。前往此链接，其中包含一个基于 Java 的小程序，专门用于执行 Stroop 任务。记录你收到的任务时间（你无需将时间提交到网站）。现在下载此数据集，其中包含一些任务参与者的结果。数据集的每行包含一名参与者的表现，第一个数字代表他们的一致任务结果，第二个数字代表不一致任务结果。\n",
    "\n",
    "(3) 报告关于此数据集的一些描述性统计。包含至少一个集中趋势测量和至少一个变异测量。"
   ]
  },
  {
   "cell_type": "code",
   "execution_count": 5,
   "metadata": {},
   "outputs": [
    {
     "data": {
      "text/plain": [
       "count    24.000000\n",
       "mean     22.015917\n",
       "std       4.797057\n",
       "min      15.687000\n",
       "25%      18.716750\n",
       "50%      21.017500\n",
       "75%      24.051500\n",
       "max      35.255000\n",
       "Name: Incongruent, dtype: float64"
      ]
     },
     "execution_count": 5,
     "metadata": {},
     "output_type": "execute_result"
    }
   ],
   "source": [
    "# 在这里执行你的分析\n",
    "import pandas as pd\n",
    "sp=pd.read_csv('stroopdata.csv')\n",
    "sp.head()\n",
    "sp['Congruent'].describe()\n",
    "sp['Incongruent'].describe()"
   ]
  },
  {
   "cell_type": "markdown",
   "metadata": {},
   "source": [
    "一致文字条件下，参与者说出的平均时间14.05秒，方差是3.5；不一致文字条件下，参与者说出的平均时间是22秒，方差是4.7"
   ]
  },
  {
   "cell_type": "markdown",
   "metadata": {},
   "source": [
    "(4) 提供显示样本数据分布的一个或两个可视化。用一两句话说明你从图中观察到的结果。"
   ]
  },
  {
   "cell_type": "code",
   "execution_count": 7,
   "metadata": {},
   "outputs": [
    {
     "data": {
      "text/plain": [
       "[<matplotlib.lines.Line2D at 0x7f981b515da0>]"
      ]
     },
     "execution_count": 7,
     "metadata": {},
     "output_type": "execute_result"
    },
    {
     "data": {
      "image/png": "[encoded data removed]",
      "text/plain": [
       "<matplotlib.figure.Figure at 0x7f981b59b0f0>"
      ]
     },
     "metadata": {
      "needs_background": "light"
     },
     "output_type": "display_data"
    }
   ],
   "source": [
    "# 在这里创建可视化图表\n",
    "import matplotlib.pyplot as plt\n",
    "fig=plt.figure()\n",
    "ax1=fig.add_subplot(2,2,1)\n",
    "ax1.plot(sp['Congruent'])\n",
    "ax1.plot(sp['Incongruent'],'k--')"
   ]
  },
  {
   "cell_type": "markdown",
   "metadata": {},
   "source": [
    "很显然，不一致文字条件的说出时间用K线表示，一致文字条件的用蓝线表示：不一致文字条件下，参与者需要更多的反应时间才能说出墨色名称。"
   ]
  },
  {
   "cell_type": "markdown",
   "metadata": {},
   "source": [
    "(5) 现在，执行统计测试并报告你的结果。你的置信水平和关键统计值是多少？你是否成功拒绝零假设？对试验任务得出一个结论。结果是否与你的期望一致？"
   ]
  },
  {
   "cell_type": "code",
   "execution_count": 44,
   "metadata": {},
   "outputs": [],
   "source": [
    "def cal_t(x_mean, y_mean, x_std, y_std, x_count, y_count):\n",
    "    import numpy as np\n",
    "    a=x_mean-y_mean\n",
    "    b=(x_count-1)*x_std*x_std+(y_count-1)*y_std*y_std\n",
    "    c=x_count+y_count-2\n",
    "    d=np.sqrt(1/x_count+1/y_count)\n",
    "    t=a/np.sqrt(b/c)/d\n",
    "    return t"
   ]
  },
  {
   "cell_type": "code",
   "execution_count": 53,
   "metadata": {},
   "outputs": [
    {
     "data": {
      "text/plain": [
       "2.1778186412603602"
      ]
     },
     "execution_count": 53,
     "metadata": {},
     "output_type": "execute_result"
    }
   ],
   "source": [
    "# 在这里执行统计检验\n",
    "Con_mean=sp['Congruent'].mean() #一致文字条件下，参与者说出时间的均值\n",
    "Incon_mean=sp['Incongruent'].mean() #不一致文字条件下，参与者说出时间的均值\n",
    "Con_std=sp['Congruent'].std() #一致文字条件下，参与者说出时间的方差\n",
    "Incon_std=sp['Congruent'].std() #不一致文字条件下，参与者说出时间的方差\n",
    "n1=sp['Congruent'].count()\n",
    "n2=sp['Incongruent'].count()\n",
    "t=cal_t(Incon_mean,Con_mean,Incon_std*Incon_std,Con_std*Con_std,n1,n1)\n",
    "t"
   ]
  },
  {
   "cell_type": "markdown",
   "metadata": {},
   "source": [
    "1、建立假设。原假设$ H_0:\\mu_x-\\mu_y\\le0 $；备选假设$ H_1:\\mu_x-\\mu_y>0 $；\n",
    "2、检验统计量：\n",
    "$$ t = \\frac{\\mu_x-\\mu_y}{{\\sqrt{\\frac{(n_1-1)s^2_x+(n_2-1)s^2_y}{n_1+n_2-2}}} {({\\frac{1}{n_1}}+{\\frac{1}{n_2})}}}$$\n",
    "3、确定临界值：当$\\alpha=0.05$时，$$t_{1-0.05/2}(n_1+n_2-2)=2.074$$\n",
    "4、判断检验统计量： $t=2.17>2.074$ 所以$t$落在拒绝域，我们拒绝$H_0$，也就是说不一致文字条件下，参与者说出文字颜色的时间大于一致文字条件下的时间 "
   ]
  },
  {
   "cell_type": "markdown",
   "metadata": {},
   "source": [
    "（6）可选：你觉得导致所观察到的效应的原因是什么？你是否能想到会取得类似效应的替代或类似任务？进行一些调查研究将有助于你思考这两个问题！"
   ]
  },
  {
   "cell_type": "markdown",
   "metadata": {},
   "source": [
    "1、根据百科说明：当测试者被要求回答有颜色意义的字体的颜色时，回答字本身的意义为优势反应，而回答字体颜色为非优势反应，若字体颜色与自意不同，被测者往往会反应速度下降，出错率上升。\n",
    "2、色不一致时可以观察到斯特鲁普效应，用数字作刺激也可以研究斯特鲁普效应。当数字的符号意义和数字串的长度不一致时，斯特鲁普效应也会被观察到。可以用一个简单的实验加以验证：\n",
    "呈现给你的被试由重复1-9的多个数字构成的数，如\" 123 \"，被试的任务是尽快说出字符的个数，也就是说，在这个例子中要报告“3”，对你的被试回答数字数量的反应时间计时；然后在呈现某种字符，这串字符要和数字构成的字符串长度一样长，但是只包括一种非数字的符号，如\" *** \",对你的被试回答符号数量的反应时间计时；最后，写出一列长度和前两列一样的字符串，其中只包括一种数字符号，如\"555\"，对你的被试回答数字数量的反应时间计时。\n",
    "参考链接：https://baike.baidu.com/item/%E6%96%AF%E7%89%B9%E9%B2%81%E6%99%AE%E6%95%88%E5%BA%94/4903054#reference-[1]-991413-wrap"
   ]
  }
 ],
 "metadata": {
  "anaconda-cloud": {},
  "kernelspec": {
   "display_name": "Python 3",
   "language": "python",
   "name": "python3"
  },
  "language_info": {
   "codemirror_mode": {
    "name": "ipython",
    "version": 3
   },
   "file_extension": ".py",
   "mimetype": "text/x-python",
   "name": "python",
   "nbconvert_exporter": "python",
   "pygments_lexer": "ipython3",
   "version": "3.6.3"
  }
 },
 "nbformat": 4,
 "nbformat_minor": 2
}
